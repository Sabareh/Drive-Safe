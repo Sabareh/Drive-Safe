{
 "cells": [
  {
   "cell_type": "code",
   "execution_count": 1,
   "metadata": {},
   "outputs": [
    {
     "ename": "ModuleNotFoundError",
     "evalue": "No module named 'tensorflow'",
     "output_type": "error",
     "traceback": [
      "\u001b[1;31m---------------------------------------------------------------------------\u001b[0m",
      "\u001b[1;31mModuleNotFoundError\u001b[0m                       Traceback (most recent call last)",
      "Input \u001b[1;32mIn [1]\u001b[0m, in \u001b[0;36m<cell line: 1>\u001b[1;34m()\u001b[0m\n\u001b[1;32m----> 1\u001b[0m \u001b[38;5;28;01mimport\u001b[39;00m \u001b[38;5;21;01mtensorflow\u001b[39;00m \u001b[38;5;28;01mas\u001b[39;00m \u001b[38;5;21;01mtf\u001b[39;00m\n\u001b[0;32m      2\u001b[0m \u001b[38;5;28;01mimport\u001b[39;00m \u001b[38;5;21;01mcv2\u001b[39;00m\n\u001b[0;32m      3\u001b[0m \u001b[38;5;28;01mimport\u001b[39;00m \u001b[38;5;21;01mos\u001b[39;00m\n",
      "\u001b[1;31mModuleNotFoundError\u001b[0m: No module named 'tensorflow'"
     ]
    }
   ],
   "source": [
    "import tensorflow as tf\n",
    "import cv2\n",
    "import os\n",
    "import matplotlib.pyplot as plt\n",
    "import numpy as np"
   ]
  },
  {
   "cell_type": "code",
   "execution_count": 2,
   "metadata": {},
   "outputs": [
    {
     "ename": "NameError",
     "evalue": "name 'os' is not defined",
     "output_type": "error",
     "traceback": [
      "\u001b[1;31m---------------------------------------------------------------------------\u001b[0m",
      "\u001b[1;31mNameError\u001b[0m                                 Traceback (most recent call last)",
      "Input \u001b[1;32mIn [2]\u001b[0m, in \u001b[0;36m<cell line: 3>\u001b[1;34m()\u001b[0m\n\u001b[0;32m      2\u001b[0m Classes \u001b[38;5;241m=\u001b[39m [\u001b[38;5;124m\"\u001b[39m\u001b[38;5;124mClosed_Eyes\u001b[39m\u001b[38;5;124m\"\u001b[39m, \u001b[38;5;124m\"\u001b[39m\u001b[38;5;124mOpen_Eyes\u001b[39m\u001b[38;5;124m\"\u001b[39m]\n\u001b[0;32m      3\u001b[0m \u001b[38;5;28;01mfor\u001b[39;00m category \u001b[38;5;129;01min\u001b[39;00m Classes:\n\u001b[1;32m----> 4\u001b[0m     path \u001b[38;5;241m=\u001b[39m \u001b[43mos\u001b[49m\u001b[38;5;241m.\u001b[39mpath\u001b[38;5;241m.\u001b[39mjoin(Datadirectory, category)\n\u001b[0;32m      5\u001b[0m     \u001b[38;5;28;01mfor\u001b[39;00m img \u001b[38;5;129;01min\u001b[39;00m os\u001b[38;5;241m.\u001b[39mlistdir(path):\n\u001b[0;32m      6\u001b[0m         img_array \u001b[38;5;241m=\u001b[39m cv2\u001b[38;5;241m.\u001b[39mimread(os\u001b[38;5;241m.\u001b[39mpath\u001b[38;5;241m.\u001b[39mjoin(path,img), cv2\u001b[38;5;241m.\u001b[39mIMREAD_GRAYSCALE)\n",
      "\u001b[1;31mNameError\u001b[0m: name 'os' is not defined"
     ]
    }
   ],
   "source": [
    "Datadirectory = \"mrlEyes_2018_01/\"\n",
    "Classes = [\"Closed_Eyes\", \"Open_Eyes\"]\n",
    "for category in Classes:\n",
    "    path = os.path.join(Datadirectory, category)\n",
    "    for img in os.listdir(path):\n",
    "        img_array = cv2.imread(os.path.join(path,img), cv2.IMREAD_GRAYSCALE)\n",
    "        backtorgb = cv2.cvtColor(img_array, cv2.COLOR_GRAY2RGB)\n",
    "        plt.imshow(img_array, cmap=\"gray\")\n",
    "        plt.show()\n",
    "        break\n",
    "    break\n"
   ]
  },
  {
   "cell_type": "code",
   "execution_count": null,
   "metadata": {},
   "outputs": [],
   "source": [
    "# Resize all the images into 224 x 224 for better feature extraction.\n",
    "\n",
    "img_size = 224\n",
    "new_array = cv2.resize(backtorgb, (img_size, img_size))\n",
    "plt.imshow(new_array, cmap=\"gray\")\n",
    "plt.show()"
   ]
  },
  {
   "cell_type": "code",
   "execution_count": null,
   "metadata": {},
   "outputs": [],
   "source": [
    "# Creating training data\n",
    "\n",
    "training_Data = []\n",
    "def create_training_Data():\n",
    "   for category in Classes:\n",
    "       path = os.path.join(Datadirectory, category)\n",
    "       class_num = Classes.index(category) # 0 1,\n",
    "       for img in os.listdir(path):\n",
    "           try:\n",
    "               img_array = cv2.imread(os.path.join(path, img), cv2.IMREAD_GRAYSCALE)\n",
    "               backtorgb = cv2.cvtColor(img_array,cv2.COLOR_GRAY2RGB)\n",
    "               new_array = cv2.resize(backtorgb, (img_size, img_size))\n",
    "               training_Data.append([new_array,class_num])\n",
    "           except Exception as e:\n",
    "               pass\n",
    "create_training_Data()"
   ]
  },
  {
   "cell_type": "code",
   "execution_count": null,
   "metadata": {},
   "outputs": [],
   "source": [
    "# Random shuffling to avoid overfitting.\n",
    "\n",
    "import random\n",
    "random.shuffle(training_Data)"
   ]
  },
  {
   "cell_type": "code",
   "execution_count": null,
   "metadata": {},
   "outputs": [],
   "source": [
    "# Creating arrays to store features and labels\n",
    "\n",
    "X = []\n",
    "y = []\n",
    "for features,label in training_Data:\n",
    "  X.append(features)\n",
    "  y.append(label)\n",
    "X = np.array(X).reshape(-1, img_size, img_size, 3)"
   ]
  },
  {
   "cell_type": "code",
   "execution_count": null,
   "metadata": {},
   "outputs": [],
   "source": [
    "from tensorflow import keras\n",
    "from tensorflow.keras import layers\n",
    "\n",
    "model = tf.keras.applications.mobilenet.MobileNet()\n",
    "base_input = model.layers[0].input ##input\n",
    "base_output = model.layers[-4].output\n",
    "Flat_layers = layers.Flatten()(base_output)\n",
    "final_output = layers.Dense(1)(Flat_layers)\n",
    "final_output = layers.Activation('sigmoid')(final_output)\n",
    "new_model = keras.Model(inputs = base_input, outputs = final_output)\n",
    "new_model.compile(loss=\"binary_crossentropy\", optimizer= \"adam\", metrics=[\"accuracy\"])\n",
    "new_model.fit(X,Y, epochs = 5, validation_split = 0.2) ##training\n",
    "new_model.save('my_model.h5')\n",
    "img_array = cv2.imread('mrlEyeDataset/Closed_Eyes/s0001_00080_0_0_0_0_0_01.png', cv2.IMREAD_GRAYSCALE)\n",
    "backtorgb = cv2.cvtColor(img_array, cv2.COLOR_GRAY2RGB)\n",
    "new_array = cv2.resize(backtorgb, (img_size, img_size))\n",
    "X_input = np.array(new_array).reshape(1, img_size, img_size, 3)\n",
    "X_input = X_input/255.0 #normalizing data\n",
    "prediction = new_model.predict(X_input)"
   ]
  },
  {
   "cell_type": "code",
   "execution_count": null,
   "metadata": {},
   "outputs": [],
   "source": [
    "# Detecting and Alerting\n",
    "\n",
    "import winsound\n",
    "frequency = 2500  # Set frequency to 2500\n",
    "duration = 1500  # Set duration to 1500 ms == 1.5 sec\n",
    "import numpy as np\n",
    "import cv2\n",
    "path = \"haarcascade_frontalface_default.xml\"\n",
    "faceCascade = cv2.CascadeClassifier(cv2.data.haarcascades + \"haarcascade_frontalface_default.xml\")\n",
    "cap = cv2.VideoCapture(1)\n",
    "#check if webcam is opened correctly\n",
    "if not cap.isOpened():\n",
    "    cap = cv2.VideoCapture(0)\n",
    "cap.set(cv2.CAP_PROP_FPS, 5)\n",
    "counter = 0\n",
    "while True:\n",
    "    ret,frame = cap.read()\n",
    "    eye_cascade = cv2.CascadeClassifier(cv2.data.haarcascades + 'haarcascade_eye.xml')\n",
    "    gray = cv2.cvtColor(frame, cv2.COLOR_BGR2GRAY)\n",
    "    eyes = eye_cascade.detectMultiScale(gray, 1.1, 4)\n",
    "    for x,y,w,h in eyes:\n",
    "        roi_gray = gray[y:y+h, x:x+w]\n",
    "        roi_color = frame[y:y+h, x:x+w]\n",
    "        cv2.rectangle(frame, (x,y), (x+w,y+h), (0, 255, 0), 2)\n",
    "        eyess = eye_cascade.detectMultiScale(roi_gray)\n",
    "        if len(eyess) == 0:\n",
    "            print(\"Eyes are not detected\")\n",
    "        else:\n",
    "            for (ex, ey, ew, eh) in eyess:\n",
    "                eyes_roi = roi_color[ey: ey+eh, ex: ex+ew]\n",
    "    gray = cv2.cvtColor(frame, cv2.COLOR_BGR2GRAY)\n",
    "    if(faceCascade.empty()==False):\n",
    "        print(\"detected\")\n",
    "    faces = faceCascade.detectMultiScale(gray, 1.1, 4)\n",
    "    # Draw a rectangle around eyes\n",
    "    for (x,y,w,h) in faces:\n",
    "        cv2.rectangle(frame, (x, y), (x+w, y+h), (0, 255, 0), 2)\n",
    "    font = cv2.FONT_HERSHEY_SIMPLEX\n",
    "    final_image = cv2.resize(eyes_roi, (224,224))\n",
    "    final_image = np.expand_dims(final_image, axis=0)\n",
    "    final_image = final_image/255.0\n",
    "    Predictions = new_model.predict(final_image)\n",
    "    if (Predictions>=0.3):\n",
    "        status = \"Open Eyes\"\n",
    "        cv2.putText(frame,\n",
    "                status,\n",
    "                (150,150),\n",
    "                font, 3,\n",
    "                (0, 255, 0),\n",
    "                2,\n",
    "                cv2.LINE_4)\n",
    "        x1,y1,w1,h1 = 0,0,175,75\n",
    "        cv2.rectangle(frame, (x1, y1), (x1 + w1, y1 + h1), (0,0,0), -1)\n",
    "        #Add text\n",
    "        cv2.putText(frame, 'Active', (x1 + int(w1/10),y1 + int(h1/2)), cv2.FONT_HERSHEY_SIMPLEX, 0.7, (0,255,0), 2)\n",
    "    elif Predictions<0.3:\n",
    "        counter = counter + 1\n",
    "        status = \"Closed Eyes\"\n",
    "        cv2.putText(frame,\n",
    "                status,\n",
    "                (150,150),\n",
    "                font, 3,\n",
    "                (0, 0, 255),\n",
    "                2,\n",
    "                cv2.LINE_4)\n",
    "        x1,y1,w1,h1 = 0,0,175,75\n",
    "        cv2.rectangle(frame, (x1,y1), (x1 + w1, y1 + h1), (0,0,255), 2)\n",
    "        if counter > 10:\n",
    "            x1,y1,w1,h1 = 0,0,175,75\n",
    "            #Draw black background rectangle\n",
    "            cv2.rectangle(frame, (x1, y1), (x1 + w1, y1 + h1), (0,0,0), -1)\n",
    "            #Add text\n",
    "            cv2.putText(frame, \"Sleep Alert !!!\", (x1 + int(w1/10), y1 + int(h1/2)), cv2.FONT_HERSHEY_SIMPLEX, 0.7, (0,0,255), 2)\n",
    "            winsound.Beep(frequency, duration)\n",
    "            counter = 0\n",
    "    cv2.imshow(\"Drowsiness Detection\", frame)\n",
    "    if cv2.waitKey(2) & 0xFF == ord('q'):\n",
    "        break\n",
    "cap.release()\n",
    "cv2.destroyAllWindows()"
   ]
  }
 ],
 "metadata": {
  "kernelspec": {
   "display_name": "base",
   "language": "python",
   "name": "python3"
  },
  "language_info": {
   "codemirror_mode": {
    "name": "ipython",
    "version": 3
   },
   "file_extension": ".py",
   "mimetype": "text/x-python",
   "name": "python",
   "nbconvert_exporter": "python",
   "pygments_lexer": "ipython3",
   "version": "undefined.undefined.undefined"
  }
 },
 "nbformat": 4,
 "nbformat_minor": 2
}
